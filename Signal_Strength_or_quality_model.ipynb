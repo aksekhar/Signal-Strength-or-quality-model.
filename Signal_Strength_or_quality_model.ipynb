{
  "nbformat": 4,
  "nbformat_minor": 0,
  "metadata": {
    "colab": {
      "private_outputs": true,
      "provenance": [],
      "authorship_tag": "ABX9TyNQUs2UNCV5jKgVHvYOan6Y",
      "include_colab_link": true
    },
    "kernelspec": {
      "name": "python3",
      "display_name": "Python 3"
    },
    "language_info": {
      "name": "python"
    }
  },
  "cells": [
    {
      "cell_type": "markdown",
      "metadata": {
        "id": "view-in-github",
        "colab_type": "text"
      },
      "source": [
        "<a href=\"https://colab.research.google.com/github/aksekhar/Signal-Strength-or-quality-model./blob/master/Signal_Strength_or_quality_model.ipynb\" target=\"_parent\"><img src=\"https://colab.research.google.com/assets/colab-badge.svg\" alt=\"Open In Colab\"/></a>"
      ]
    },
    {
      "cell_type": "markdown",
      "source": [
        "# Hellping Class and functions"
      ],
      "metadata": {
        "id": "ccQCVKvIa3TY"
      }
    },
    {
      "cell_type": "code",
      "execution_count": null,
      "metadata": {
        "id": "79GCfspUDtZg"
      },
      "outputs": [],
      "source": [
        "import pandas as pd\n",
        "import numpy as np"
      ]
    },
    {
      "cell_type": "code",
      "source": [
        "def mount_drive(fpath):\n",
        "  try:\n",
        "    from google.colab import drive\n",
        "    drive.mount(\"/content/drive/\", force_remount=True)\n",
        "    google_drive_prefix = \"/content/drive/My Drive\"\n",
        "    data_path = f\"{google_drive_prefix}/{fpath}\"\n",
        "    print(data_path)\n",
        "    return data_path\n",
        "  except ModuleNotFoundError:\n",
        "    data_prefix = f\"{fpath}\""
      ],
      "metadata": {
        "id": "_nKlZ7QKugDQ"
      },
      "execution_count": null,
      "outputs": []
    },
    {
      "cell_type": "code",
      "source": [
        "def read_file(file_name):\n",
        "  print(f\"reding the file: {file_name}\")\n",
        "  try:\n",
        "    file_type = file_name.split('.')[1]\n",
        "    print(file_type)\n",
        "    if file_type == 'csv':\n",
        "      df = pd.read_csv(signal_file_path)\n",
        "    else:\n",
        "      pass\n",
        "    return df\n",
        "  except Exception as e:\n",
        "    print(\"data write\")\n",
        "    raise e"
      ],
      "metadata": {
        "id": "g5Io3uTZAZxI"
      },
      "execution_count": null,
      "outputs": []
    },
    {
      "cell_type": "code",
      "source": [
        "def verify_sample_data(df,records):\n",
        "  if not(records):\n",
        "    records = 5\n",
        "  print(f\"verifying first {records} records and last {records} records\")\n",
        "  return pd.concat([df.head(records),df.tail(records)])"
      ],
      "metadata": {
        "id": "b1O9HLEpKQ9t"
      },
      "execution_count": null,
      "outputs": []
    },
    {
      "cell_type": "code",
      "source": [
        "def get_percentage_of_missing_values(df):\n",
        "  print(\"Checking for missing values and print percentage for each attribute\")\n",
        "  return (round(df.isnull().sum() / (df.isnull().count())*100))"
      ],
      "metadata": {
        "id": "pmojHZSPdCpd"
      },
      "execution_count": null,
      "outputs": []
    },
    {
      "cell_type": "markdown",
      "source": [
        "# 1. Data import and Understanding"
      ],
      "metadata": {
        "id": "41abRphQas4p"
      }
    },
    {
      "cell_type": "code",
      "source": [
        "signal_file_path = mount_drive(\"dataset/NN Project Data - Signal.csv\")"
      ],
      "metadata": {
        "id": "Ti7ADL-UvR3U"
      },
      "execution_count": null,
      "outputs": []
    },
    {
      "cell_type": "markdown",
      "source": [
        "*a. Read the ‘Signals.csv’ as DataFrame and import required libraries.*"
      ],
      "metadata": {
        "id": "9Y12eGp5KHIC"
      }
    },
    {
      "cell_type": "code",
      "source": [
        "signalDf = read_file(signal_file_path)\n",
        "verify_sample_data(signalDf,3)"
      ],
      "metadata": {
        "id": "3p_PVrsTtUD5"
      },
      "execution_count": null,
      "outputs": []
    },
    {
      "cell_type": "code",
      "source": [
        "signalDf.info()"
      ],
      "metadata": {
        "id": "6GcXdUDeeJhl"
      },
      "execution_count": null,
      "outputs": []
    },
    {
      "cell_type": "markdown",
      "source": [
        "- The dataset consists of **1599 entries** (non-null values).\n",
        "- There are **12 columns** in total, labeled as `Parameter 1` through `Parameter 11` and `Signal_Strength`.\n",
        "- All `Parameter` columns contain **floating-point values** (float64), which suggests they could be measurements or scores of some kind.\n",
        "- The `Signal_Strength` column contains **integer values** (int64), which could be a count, a rating, or some other discrete value.\n",
        "- There are **no missing values** in the dataset, as indicated by the 'non-null' count for each column.\n"
      ],
      "metadata": {
        "id": "3prK1H26hxh_"
      }
    },
    {
      "cell_type": "code",
      "source": [
        "\n",
        "signalDf.describe().T"
      ],
      "metadata": {
        "id": "Ik3NtDW0bOGF"
      },
      "execution_count": null,
      "outputs": []
    },
    {
      "cell_type": "markdown",
      "source": [
        "1. **Parameter 1**: The data is centered around 8.32 with a spread of 1.74. The wide range suggests diverse data points.\n",
        "\n",
        "2. **Parameter 2**: The average value is 0.53, indicating that most data points are close to this value. However, the maximum value of 1.58 suggests the presence of higher values as well.\n",
        "\n",
        "3. **Parameter 3**: With a mean of 0.27 and a maximum value of 1, it appears that the data points are skewed towards the lower end.\n",
        "\n",
        "4. **Parameter 4**: The data has a fairly large spread (std: 1.41) around the mean (2.54), indicating variability in the data points.\n",
        "\n",
        "5. **Parameter 5**: The data is tightly clustered around the mean (0.087), as indicated by the small standard deviation (0.047).\n",
        "\n",
        "6. **Parameter 6**: The large standard deviation (10.46) relative to the mean (15.87) suggests a wide spread in the data.\n",
        "\n",
        "7. **Parameter 7**: The data points are spread out over a large range (from 6 to 289), indicating high variability.\n",
        "\n",
        "8. **Parameter 8**: The data is tightly clustered around the mean (0.997), suggesting low variability.\n",
        "\n",
        "9. **Parameter 9**: The data points are relatively close to the mean (3.31), indicating moderate variability.\n",
        "\n",
        "10. **Parameter 10**: The data has a moderate spread (std: 0.17) around the mean (0.658), indicating some variability.\n",
        "\n",
        "11. **Parameter 11**: The data points are fairly close to the mean (10.42), suggesting moderate variability.\n",
        "\n",
        "12. **Signal Strength**: The average signal strength is 5.64 with a moderate spread (std: 0.81), indicating that the signal strength varies moderately across observations."
      ],
      "metadata": {
        "id": "1T0OHsGmguRl"
      }
    },
    {
      "cell_type": "code",
      "source": [
        "get_percentage_of_missing_values(signalDf)"
      ],
      "metadata": {
        "id": "ruJZCnxgL-BD"
      },
      "execution_count": null,
      "outputs": []
    },
    {
      "cell_type": "code",
      "source": [],
      "metadata": {
        "id": "A7yYS7m5dkRs"
      },
      "execution_count": null,
      "outputs": []
    }
  ]
}