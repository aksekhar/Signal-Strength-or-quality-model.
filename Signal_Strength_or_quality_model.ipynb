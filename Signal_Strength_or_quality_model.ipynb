{
  "nbformat": 4,
  "nbformat_minor": 0,
  "metadata": {
    "colab": {
      "private_outputs": true,
      "provenance": [],
      "authorship_tag": "ABX9TyOo0Qa/TAWDF52sFEe7T48r",
      "include_colab_link": true
    },
    "kernelspec": {
      "name": "python3",
      "display_name": "Python 3"
    },
    "language_info": {
      "name": "python"
    }
  },
  "cells": [
    {
      "cell_type": "markdown",
      "metadata": {
        "id": "view-in-github",
        "colab_type": "text"
      },
      "source": [
        "<a href=\"https://colab.research.google.com/github/aksekhar/Signal-Strength-or-quality-model./blob/master/Signal_Strength_or_quality_model.ipynb\" target=\"_parent\"><img src=\"https://colab.research.google.com/assets/colab-badge.svg\" alt=\"Open In Colab\"/></a>"
      ]
    },
    {
      "cell_type": "code",
      "execution_count": null,
      "metadata": {
        "id": "79GCfspUDtZg"
      },
      "outputs": [],
      "source": []
    },
    {
      "cell_type": "code",
      "source": [
        "try:\n",
        "    from google.colab import drive\n",
        "    drive.mount(\"/content/drive/\", force_remount=True)\n",
        "    google_drive_prefix = \"/content/drive/My Drive\"\n",
        "    data_prefix = \"{}/mnist/\".format(google_drive_prefix)\n",
        "except ModuleNotFoundError:\n",
        "    data_prefix = \"data/\""
      ],
      "metadata": {
        "id": "QHie1ZctD__D"
      },
      "execution_count": null,
      "outputs": []
    }
  ]
}